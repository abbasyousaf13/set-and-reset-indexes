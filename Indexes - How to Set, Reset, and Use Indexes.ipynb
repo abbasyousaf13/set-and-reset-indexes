{
 "cells": [
  {
   "cell_type": "code",
   "execution_count": 1,
   "id": "00745c99",
   "metadata": {},
   "outputs": [],
   "source": [
    "billionaires = {\n",
    "    \"name\" : [\"Elon Musk\", 'Jeff Bezos', 'Bill Gates'],\n",
    "    \"company\" : [\"SpaceX\", 'Amazon', 'Microsoft'],\n",
    "    \"net_worth\" : [\"218.6 billion USD\", '132.8 billion USD', '125.2 billion USD']\n",
    "}"
   ]
  },
  {
   "cell_type": "code",
   "execution_count": 2,
   "id": "f9b41047",
   "metadata": {},
   "outputs": [],
   "source": [
    "import pandas as pd            # importing pandas"
   ]
  },
  {
   "cell_type": "code",
   "execution_count": 3,
   "id": "cd944f37",
   "metadata": {},
   "outputs": [],
   "source": [
    "df = pd.DataFrame(billionaires)       # loading DataFramne"
   ]
  },
  {
   "cell_type": "code",
   "execution_count": 4,
   "id": "061be7e8",
   "metadata": {},
   "outputs": [
    {
     "data": {
      "text/html": [
       "<div>\n",
       "<style scoped>\n",
       "    .dataframe tbody tr th:only-of-type {\n",
       "        vertical-align: middle;\n",
       "    }\n",
       "\n",
       "    .dataframe tbody tr th {\n",
       "        vertical-align: top;\n",
       "    }\n",
       "\n",
       "    .dataframe thead th {\n",
       "        text-align: right;\n",
       "    }\n",
       "</style>\n",
       "<table border=\"1\" class=\"dataframe\">\n",
       "  <thead>\n",
       "    <tr style=\"text-align: right;\">\n",
       "      <th></th>\n",
       "      <th>name</th>\n",
       "      <th>company</th>\n",
       "      <th>net_worth</th>\n",
       "    </tr>\n",
       "  </thead>\n",
       "  <tbody>\n",
       "    <tr>\n",
       "      <th>0</th>\n",
       "      <td>Elon Musk</td>\n",
       "      <td>SpaceX</td>\n",
       "      <td>218.6 billion USD</td>\n",
       "    </tr>\n",
       "    <tr>\n",
       "      <th>1</th>\n",
       "      <td>Jeff Bezos</td>\n",
       "      <td>Amazon</td>\n",
       "      <td>132.8 billion USD</td>\n",
       "    </tr>\n",
       "    <tr>\n",
       "      <th>2</th>\n",
       "      <td>Bill Gates</td>\n",
       "      <td>Microsoft</td>\n",
       "      <td>125.2 billion USD</td>\n",
       "    </tr>\n",
       "  </tbody>\n",
       "</table>\n",
       "</div>"
      ],
      "text/plain": [
       "         name    company          net_worth\n",
       "0   Elon Musk     SpaceX  218.6 billion USD\n",
       "1  Jeff Bezos     Amazon  132.8 billion USD\n",
       "2  Bill Gates  Microsoft  125.2 billion USD"
      ]
     },
     "execution_count": 4,
     "metadata": {},
     "output_type": "execute_result"
    }
   ],
   "source": [
    "df                    # printing DataFrame"
   ]
  },
  {
   "cell_type": "code",
   "execution_count": 5,
   "id": "c380fa53",
   "metadata": {},
   "outputs": [
    {
     "data": {
      "text/plain": [
       "0       SpaceX\n",
       "1       Amazon\n",
       "2    Microsoft\n",
       "Name: company, dtype: object"
      ]
     },
     "execution_count": 5,
     "metadata": {},
     "output_type": "execute_result"
    }
   ],
   "source": [
    "df['company']             # display company names"
   ]
  },
  {
   "cell_type": "code",
   "execution_count": 7,
   "id": "2c394b67",
   "metadata": {},
   "outputs": [],
   "source": [
    "df.set_index('company', inplace=True)          # permanently set company column as index"
   ]
  },
  {
   "cell_type": "code",
   "execution_count": 8,
   "id": "e0af2467",
   "metadata": {},
   "outputs": [
    {
     "data": {
      "text/html": [
       "<div>\n",
       "<style scoped>\n",
       "    .dataframe tbody tr th:only-of-type {\n",
       "        vertical-align: middle;\n",
       "    }\n",
       "\n",
       "    .dataframe tbody tr th {\n",
       "        vertical-align: top;\n",
       "    }\n",
       "\n",
       "    .dataframe thead th {\n",
       "        text-align: right;\n",
       "    }\n",
       "</style>\n",
       "<table border=\"1\" class=\"dataframe\">\n",
       "  <thead>\n",
       "    <tr style=\"text-align: right;\">\n",
       "      <th></th>\n",
       "      <th>name</th>\n",
       "      <th>net_worth</th>\n",
       "    </tr>\n",
       "    <tr>\n",
       "      <th>company</th>\n",
       "      <th></th>\n",
       "      <th></th>\n",
       "    </tr>\n",
       "  </thead>\n",
       "  <tbody>\n",
       "    <tr>\n",
       "      <th>SpaceX</th>\n",
       "      <td>Elon Musk</td>\n",
       "      <td>218.6 billion USD</td>\n",
       "    </tr>\n",
       "    <tr>\n",
       "      <th>Amazon</th>\n",
       "      <td>Jeff Bezos</td>\n",
       "      <td>132.8 billion USD</td>\n",
       "    </tr>\n",
       "    <tr>\n",
       "      <th>Microsoft</th>\n",
       "      <td>Bill Gates</td>\n",
       "      <td>125.2 billion USD</td>\n",
       "    </tr>\n",
       "  </tbody>\n",
       "</table>\n",
       "</div>"
      ],
      "text/plain": [
       "                 name          net_worth\n",
       "company                                 \n",
       "SpaceX      Elon Musk  218.6 billion USD\n",
       "Amazon     Jeff Bezos  132.8 billion USD\n",
       "Microsoft  Bill Gates  125.2 billion USD"
      ]
     },
     "execution_count": 8,
     "metadata": {},
     "output_type": "execute_result"
    }
   ],
   "source": [
    "df       # again printing dataframe"
   ]
  },
  {
   "cell_type": "code",
   "execution_count": 9,
   "id": "48e07bff",
   "metadata": {},
   "outputs": [
    {
     "data": {
      "text/plain": [
       "Index(['SpaceX', 'Amazon', 'Microsoft'], dtype='object', name='company')"
      ]
     },
     "execution_count": 9,
     "metadata": {},
     "output_type": "execute_result"
    }
   ],
   "source": [
    "df.index            # check new indexes which we just set in previous cell"
   ]
  },
  {
   "cell_type": "code",
   "execution_count": 17,
   "id": "250636ea",
   "metadata": {},
   "outputs": [
    {
     "data": {
      "text/plain": [
       "name                Jeff Bezos\n",
       "net_worth    132.8 billion USD\n",
       "Name: Amazon, dtype: object"
      ]
     },
     "execution_count": 17,
     "metadata": {},
     "output_type": "execute_result"
    }
   ],
   "source": [
    "df.loc['Amazon']      # see the information of Amazon"
   ]
  },
  {
   "cell_type": "code",
   "execution_count": 18,
   "id": "445be5be",
   "metadata": {},
   "outputs": [
    {
     "data": {
      "text/plain": [
       "'Jeff Bezos'"
      ]
     },
     "execution_count": 18,
     "metadata": {},
     "output_type": "execute_result"
    }
   ],
   "source": [
    "df.loc['Amazon', 'name']          # get the name of a person owned Amazon"
   ]
  },
  {
   "cell_type": "code",
   "execution_count": 20,
   "id": "ee87606f",
   "metadata": {},
   "outputs": [
    {
     "data": {
      "text/plain": [
       "name                 Elon Musk\n",
       "net_worth    218.6 billion USD\n",
       "Name: SpaceX, dtype: object"
      ]
     },
     "execution_count": 20,
     "metadata": {},
     "output_type": "execute_result"
    }
   ],
   "source": [
    "df.iloc[0]         # still access using integer based location"
   ]
  },
  {
   "cell_type": "code",
   "execution_count": 22,
   "id": "c63dd746",
   "metadata": {},
   "outputs": [
    {
     "data": {
      "text/html": [
       "<div>\n",
       "<style scoped>\n",
       "    .dataframe tbody tr th:only-of-type {\n",
       "        vertical-align: middle;\n",
       "    }\n",
       "\n",
       "    .dataframe tbody tr th {\n",
       "        vertical-align: top;\n",
       "    }\n",
       "\n",
       "    .dataframe thead th {\n",
       "        text-align: right;\n",
       "    }\n",
       "</style>\n",
       "<table border=\"1\" class=\"dataframe\">\n",
       "  <thead>\n",
       "    <tr style=\"text-align: right;\">\n",
       "      <th></th>\n",
       "      <th>index</th>\n",
       "      <th>company</th>\n",
       "      <th>name</th>\n",
       "      <th>net_worth</th>\n",
       "    </tr>\n",
       "  </thead>\n",
       "  <tbody>\n",
       "    <tr>\n",
       "      <th>0</th>\n",
       "      <td>0</td>\n",
       "      <td>SpaceX</td>\n",
       "      <td>Elon Musk</td>\n",
       "      <td>218.6 billion USD</td>\n",
       "    </tr>\n",
       "    <tr>\n",
       "      <th>1</th>\n",
       "      <td>1</td>\n",
       "      <td>Amazon</td>\n",
       "      <td>Jeff Bezos</td>\n",
       "      <td>132.8 billion USD</td>\n",
       "    </tr>\n",
       "    <tr>\n",
       "      <th>2</th>\n",
       "      <td>2</td>\n",
       "      <td>Microsoft</td>\n",
       "      <td>Bill Gates</td>\n",
       "      <td>125.2 billion USD</td>\n",
       "    </tr>\n",
       "  </tbody>\n",
       "</table>\n",
       "</div>"
      ],
      "text/plain": [
       "   index    company        name          net_worth\n",
       "0      0     SpaceX   Elon Musk  218.6 billion USD\n",
       "1      1     Amazon  Jeff Bezos  132.8 billion USD\n",
       "2      2  Microsoft  Bill Gates  125.2 billion USD"
      ]
     },
     "execution_count": 22,
     "metadata": {},
     "output_type": "execute_result"
    }
   ],
   "source": [
    "df.reset_index(inplace=True)        # resetting the index to its original form\n",
    "df           # printing"
   ]
  },
  {
   "cell_type": "code",
   "execution_count": null,
   "id": "e5d17590",
   "metadata": {},
   "outputs": [],
   "source": []
  }
 ],
 "metadata": {
  "kernelspec": {
   "display_name": "Python 3 (ipykernel)",
   "language": "python",
   "name": "python3"
  },
  "language_info": {
   "codemirror_mode": {
    "name": "ipython",
    "version": 3
   },
   "file_extension": ".py",
   "mimetype": "text/x-python",
   "name": "python",
   "nbconvert_exporter": "python",
   "pygments_lexer": "ipython3",
   "version": "3.9.7"
  }
 },
 "nbformat": 4,
 "nbformat_minor": 5
}
